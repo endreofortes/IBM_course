{
  "nbformat": 4,
  "nbformat_minor": 0,
  "metadata": {
    "colab": {
      "provenance": []
    },
    "kernelspec": {
      "name": "python3",
      "display_name": "Python 3"
    },
    "language_info": {
      "name": "python"
    }
  },
  "cells": [
    {
      "cell_type": "markdown",
      "source": [
        "# Data Science Tools and Ecosystem"
      ],
      "metadata": {
        "id": "peCrRNFKywkq"
      }
    },
    {
      "cell_type": "markdown",
      "source": [
        "Neste notebook, as Ferramentas e Ecossistema de Ciência de Dados são resumidos."
      ],
      "metadata": {
        "id": "UZWmr4RlzaVS"
      }
    },
    {
      "cell_type": "markdown",
      "source": [
        "**Objetivos:**\n",
        "* Listar linguagens populares para Ciência de Dados\n",
        "* Listar bibliotecas comumente usadas em Ciência de Dados\n",
        "* Apresentar ferramentas de código aberto para Ciência de Dados\n",
        "* Demonstrar exemplos de expressões aritméticas\n",
        "* Converter unidades de tempo"
      ],
      "metadata": {
        "id": "APzLgx9d3Te0"
      }
    },
    {
      "cell_type": "markdown",
      "source": [
        "Algumas das linguagens populares que os Cientistas de Dados usam são:\n",
        "1. Python\n",
        "2. R\n",
        "3. SQL\n",
        "4. Julia"
      ],
      "metadata": {
        "id": "hfcPqlaK0BBI"
      }
    },
    {
      "cell_type": "markdown",
      "source": [
        "Algumas das bibliotecas comumente usadas por Cientistas de Dados incluem:\n",
        "1. Pandas\n",
        "2. NumPy\n",
        "3. Matplotlib\n",
        "4. Scikit-learn\n",
        "5. TensorFlow"
      ],
      "metadata": {
        "id": "i-cAKxRf0gZB"
      }
    },
    {
      "cell_type": "markdown",
      "source": [
        "Algumas ferramentas de Ciência de Dados\n",
        "\n",
        "| Ferramentas de Ciência de Dados |\n",
        "|---------------------------------|\n",
        "| Jupyter Notebooks               |\n",
        "| RStudio                         |\n",
        "| Apache Spark                    |"
      ],
      "metadata": {
        "id": "ob2oKKs10ywG"
      }
    },
    {
      "cell_type": "markdown",
      "source": [
        "### Abaixo estão alguns exemplos de avaliação de expressões aritméticas em Python."
      ],
      "metadata": {
        "id": "jhx1NmmK1ueg"
      }
    },
    {
      "cell_type": "code",
      "execution_count": 2,
      "metadata": {
        "colab": {
          "base_uri": "https://localhost:8080/"
        },
        "id": "VefuncECt0Ut",
        "outputId": "c57a68ba-8ed7-4cdb-8bf8-f41d4c9ac3ad"
      },
      "outputs": [
        {
          "output_type": "execute_result",
          "data": {
            "text/plain": [
              "17"
            ]
          },
          "metadata": {},
          "execution_count": 2
        }
      ],
      "source": [
        "# Esta é uma expressão aritmética simples para multiplicar e depois adicionar inteiros.\n",
        "(3*4)+5"
      ]
    },
    {
      "cell_type": "code",
      "source": [
        "# Isso converterá 200 minutos em horas dividindo por 60.\n",
        "200 / 60"
      ],
      "metadata": {
        "colab": {
          "base_uri": "https://localhost:8080/"
        },
        "id": "HZrcxU_P2zby",
        "outputId": "d5950bac-d5ba-4f5c-db84-1aecf6b77906"
      },
      "execution_count": 3,
      "outputs": [
        {
          "output_type": "execute_result",
          "data": {
            "text/plain": [
              "3.3333333333333335"
            ]
          },
          "metadata": {},
          "execution_count": 3
        }
      ]
    },
    {
      "cell_type": "markdown",
      "source": [
        "## Autor\n",
        "Endreo Fortes"
      ],
      "metadata": {
        "id": "0UvtOXv63o5g"
      }
    },
    {
      "cell_type": "code",
      "source": [],
      "metadata": {
        "id": "r3lq_yT23pna"
      },
      "execution_count": null,
      "outputs": []
    }
  ]
}