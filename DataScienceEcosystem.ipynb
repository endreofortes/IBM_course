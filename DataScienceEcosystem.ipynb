{
  "nbformat": 4,
  "nbformat_minor": 0,
  "metadata": {
    "colab": {
      "provenance": []
    },
    "kernelspec": {
      "name": "python3",
      "display_name": "Python 3"
    },
    "language_info": {
      "name": "python"
    }
  },
  "cells": [
    {
      "cell_type": "markdown",
      "source": [
        "# Data Science Tools and Ecosystem"
      ],
      "metadata": {
        "id": "peCrRNFKywkq"
      }
    },
    {
      "cell_type": "markdown",
      "source": [
        "In this notebook, Data Science Tools and Ecosystem are summarized."
      ],
      "metadata": {
        "id": "UZWmr4RlzaVS"
      }
    },
    {
      "cell_type": "markdown",
      "source": [
        "**Objectives:**\n",
        "* List popular languages for Data Science\n",
        "* List commonly used libraries in Data Science\n",
        "* Introduce open-source tools for Data Science\n",
        "* Demonstrate examples of arithmetic expressions\n",
        "* Convert time units"
      ],
      "metadata": {
        "id": "APzLgx9d3Te0"
      }
    },
    {
      "cell_type": "markdown",
      "source": [
        "Some of the popular languages that Data Scientists use are:\n",
        "1. Python\n",
        "2. R\n",
        "3. SQL\n",
        "4. Julia"
      ],
      "metadata": {
        "id": "hfcPqlaK0BBI"
      }
    },
    {
      "cell_type": "markdown",
      "source": [
        "Some of the commonly used libraries by Data Scientists include:\n",
        "1. Pandas\n",
        "2. NumPy\n",
        "3. Matplotlib\n",
        "4. Scikit-learn\n",
        "5. TensorFlow"
      ],
      "metadata": {
        "id": "i-cAKxRf0gZB"
      }
    },
    {
      "cell_type": "markdown",
      "source": [
        "Some data science tools\n",
        "\n",
        "| Data Science Tools |\n",
        "|--------------------|\n",
        "| Jupyter Notebooks  |\n",
        "| RStudio            |\n",
        "| Apache Spark       |"
      ],
      "metadata": {
        "id": "ob2oKKs10ywG"
      }
    },
    {
      "cell_type": "markdown",
      "source": [
        "### Below are some examples of evaluating arithmetic expressions in Python."
      ],
      "metadata": {
        "id": "jhx1NmmK1ueg"
      }
    },
    {
      "cell_type": "code",
      "execution_count": 4,
      "metadata": {
        "colab": {
          "base_uri": "https://localhost:8080/"
        },
        "id": "VefuncECt0Ut",
        "outputId": "de425f16-ba5b-461b-9dde-93afbb9af5f7"
      },
      "outputs": [
        {
          "output_type": "execute_result",
          "data": {
            "text/plain": [
              "17"
            ]
          },
          "metadata": {},
          "execution_count": 4
        }
      ],
      "source": [
        "# This is a simple arithmetic expression to multiply then add integers.\n",
        "(3*4)+5"
      ]
    },
    {
      "cell_type": "code",
      "source": [
        "# This will convert 200 minutes to hours by dividing by 60.\n",
        "200 / 60"
      ],
      "metadata": {
        "colab": {
          "base_uri": "https://localhost:8080/"
        },
        "id": "HZrcxU_P2zby",
        "outputId": "13972007-ac7f-4a32-ac01-e972c46f87e1"
      },
      "execution_count": 5,
      "outputs": [
        {
          "output_type": "execute_result",
          "data": {
            "text/plain": [
              "3.3333333333333335"
            ]
          },
          "metadata": {},
          "execution_count": 5
        }
      ]
    },
    {
      "cell_type": "markdown",
      "source": [
        "## Author\n",
        "Endreo Fortes"
      ],
      "metadata": {
        "id": "0UvtOXv63o5g"
      }
    }
  ]
}